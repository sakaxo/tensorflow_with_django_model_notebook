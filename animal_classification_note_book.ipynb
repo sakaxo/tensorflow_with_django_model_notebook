{
  "nbformat": 4,
  "nbformat_minor": 0,
  "metadata": {
    "colab": {
      "provenance": [],
      "authorship_tag": "ABX9TyOyqxrfEtKTCY9oVSr8aQKj",
      "include_colab_link": true
    },
    "kernelspec": {
      "name": "python3",
      "display_name": "Python 3"
    },
    "language_info": {
      "name": "python"
    }
  },
  "cells": [
    {
      "cell_type": "markdown",
      "metadata": {
        "id": "view-in-github",
        "colab_type": "text"
      },
      "source": [
        "<a href=\"https://colab.research.google.com/github/sakaxo/tensorflow_with_django_model_notebook/blob/master/animal_classification_note_book.ipynb\" target=\"_parent\"><img src=\"https://colab.research.google.com/assets/colab-badge.svg\" alt=\"Open In Colab\"/></a>"
      ]
    },
    {
      "cell_type": "markdown",
      "source": [
        "# ***Import Project Dependancies***"
      ],
      "metadata": {
        "id": "7JnXuK4CCwLg"
      }
    },
    {
      "cell_type": "code",
      "execution_count": 311,
      "metadata": {
        "id": "CkHIfxv8HJbP"
      },
      "outputs": [],
      "source": [
        "import matplotlib.pyplot as plt\n",
        "import numpy as np\n",
        "import random\n",
        "import pickle\n",
        "import cv2\n",
        "import os\n",
        "\n",
        "import tensorflow as tf\n",
        "from tensorflow import keras\n",
        "from tensorflow.keras import layers"
      ]
    },
    {
      "cell_type": "code",
      "source": [
        "data_dir = \"/content/dataset\""
      ],
      "metadata": {
        "id": "1J9w-0yOIjCI"
      },
      "execution_count": 312,
      "outputs": []
    },
    {
      "cell_type": "code",
      "source": [
        "class_names = ['cat','dog','parrot']\n",
        "img_size = 100"
      ],
      "metadata": {
        "id": "Y-Ptguq2I0o0"
      },
      "execution_count": 313,
      "outputs": []
    },
    {
      "cell_type": "code",
      "source": [
        "data = []"
      ],
      "metadata": {
        "id": "5Zm37jHQLHTx"
      },
      "execution_count": 314,
      "outputs": []
    },
    {
      "cell_type": "markdown",
      "source": [
        " **Prepare Dataset**\n",
        "\n",
        "\n"
      ],
      "metadata": {
        "id": "d8swVJgoC9WR"
      }
    },
    {
      "cell_type": "markdown",
      "source": [],
      "metadata": {
        "id": "_JvKGT-yDruk"
      }
    },
    {
      "cell_type": "code",
      "source": [
        "for animal in class_names:\n",
        "  class_path = os.path.join(data_dir,animal)\n",
        "  label = class_names.index(animal)\n",
        "  for img in os.listdir(class_path):\n",
        "    img_path = os.path.join(class_path,img)\n",
        "\n",
        "    img_arr = cv2.imread(img_path,0) #load image and convert to gray scale (0)\n",
        "    img_arr = cv2.resize(img_arr,(img_size,img_size)) # resize every image to size (img_size,img_size)\n",
        "\n",
        "    # data\n",
        "    data.append([img_arr,label])\n",
        "  \n"
      ],
      "metadata": {
        "id": "QQrH5lngJDZE"
      },
      "execution_count": 315,
      "outputs": []
    },
    {
      "cell_type": "code",
      "source": [
        "random.shuffle(data)\n",
        "X = []\n",
        "y = []"
      ],
      "metadata": {
        "id": "fpw5_q10LZ1f"
      },
      "execution_count": 316,
      "outputs": []
    },
    {
      "cell_type": "code",
      "source": [
        "for feature,label in data:\n",
        "  X.append(feature)\n",
        "  y.append(label)"
      ],
      "metadata": {
        "id": "FUA6Wh1gJX70"
      },
      "execution_count": 317,
      "outputs": []
    },
    {
      "cell_type": "markdown",
      "source": [
        "**Save Prepared data to memory**"
      ],
      "metadata": {
        "id": "r1F_bJunCXLV"
      }
    },
    {
      "cell_type": "code",
      "source": [
        "pickle.dump(X,open('train_X.pkl','wb'))\n",
        "pickle.dump(y,open('train_y.pkl','wb'))"
      ],
      "metadata": {
        "id": "3wvx_R-cNeVC"
      },
      "execution_count": 318,
      "outputs": []
    },
    {
      "cell_type": "markdown",
      "source": [
        "**Load saved data from memory**"
      ],
      "metadata": {
        "id": "vl8zwwc3MVyM"
      }
    },
    {
      "cell_type": "code",
      "source": [
        "X_train = pickle.load(open('train_X.pkl','rb'))\n",
        "y_train = pickle.load(open('train_y.pkl','rb'))\n"
      ],
      "metadata": {
        "id": "-a43j4ZCNfrv"
      },
      "execution_count": 319,
      "outputs": []
    },
    {
      "cell_type": "markdown",
      "source": [
        "# **Data list to numpy array**"
      ],
      "metadata": {
        "id": "53hTI5X3CGKs"
      }
    },
    {
      "cell_type": "code",
      "source": [
        "X = np.array(X_train)\n",
        "y = np.array(y_train)"
      ],
      "metadata": {
        "id": "1BB3Jod-N9Gi"
      },
      "execution_count": 320,
      "outputs": []
    },
    {
      "cell_type": "code",
      "source": [
        "X.max()"
      ],
      "metadata": {
        "colab": {
          "base_uri": "https://localhost:8080/"
        },
        "id": "oxyM8wFqUj3P",
        "outputId": "03f04500-98d9-441a-b14d-ac70d0c40c33"
      },
      "execution_count": 321,
      "outputs": [
        {
          "output_type": "execute_result",
          "data": {
            "text/plain": [
              "255"
            ]
          },
          "metadata": {},
          "execution_count": 321
        }
      ]
    },
    {
      "cell_type": "code",
      "source": [
        "# scale features\n",
        "X = X/255.0\n"
      ],
      "metadata": {
        "id": "L5EgFWQlPQ1Y"
      },
      "execution_count": 322,
      "outputs": []
    },
    {
      "cell_type": "code",
      "source": [
        "X.max()"
      ],
      "metadata": {
        "colab": {
          "base_uri": "https://localhost:8080/"
        },
        "id": "A_yW5M6QUsnY",
        "outputId": "97c66894-6282-4823-827b-c61708943170"
      },
      "execution_count": 323,
      "outputs": [
        {
          "output_type": "execute_result",
          "data": {
            "text/plain": [
              "1.0"
            ]
          },
          "metadata": {},
          "execution_count": 323
        }
      ]
    },
    {
      "cell_type": "markdown",
      "source": [
        "# **Build and Train Model**"
      ],
      "metadata": {
        "id": "t4hnJtKEDG0_"
      }
    },
    {
      "cell_type": "markdown",
      "source": [
        "**Build model**\n",
        "[Old model]"
      ],
      "metadata": {
        "id": "Cl3LW1cmDPF3"
      }
    },
    {
      "cell_type": "code",
      "source": [
        "print(img_size)"
      ],
      "metadata": {
        "colab": {
          "base_uri": "https://localhost:8080/"
        },
        "id": "IWeITn67U9QW",
        "outputId": "ee9958c4-8a80-4048-a25a-81bf880b2cc9"
      },
      "execution_count": 324,
      "outputs": [
        {
          "output_type": "stream",
          "name": "stdout",
          "text": [
            "100\n"
          ]
        }
      ]
    },
    {
      "cell_type": "code",
      "source": [
        "model = keras.Sequential(name=\"Sequential_1\")\n",
        "model.add(layers.Flatten(input_shape=(img_size,img_size), name=\"Flatten_layer\"))\n",
        "model.add(layers.Dense(32, activation=\"relu\", name=\"layer_1\"))\n",
        "model.add(layers.Dense(32, activation=\"relu\", name=\"layer_2\"))\n",
        "model.add(layers.Dense(3, activation=\"softmax\", name=\"layer_3\"))\n",
        "\n"
      ],
      "metadata": {
        "id": "13cpaHXLSaRV"
      },
      "execution_count": 325,
      "outputs": []
    },
    {
      "cell_type": "markdown",
      "source": [
        "**Compile built model**\n",
        "[old model]"
      ],
      "metadata": {
        "id": "_y6KBAaJOkMF"
      }
    },
    {
      "cell_type": "code",
      "source": [
        "model.compile(optimizer='adam',\n",
        "              loss=tf.keras.losses.SparseCategoricalCrossentropy(from_logits=True),\n",
        "              metrics=['accuracy'])"
      ],
      "metadata": {
        "id": "RUNDKK87N8hN"
      },
      "execution_count": 326,
      "outputs": []
    },
    {
      "cell_type": "markdown",
      "source": [
        "**Train model**\n",
        "[old model]"
      ],
      "metadata": {
        "id": "gZGm2b-LPBF9"
      }
    },
    {
      "cell_type": "code",
      "source": [
        "model.fit(X, y, epochs=10,validation_split=0.2,)"
      ],
      "metadata": {
        "colab": {
          "base_uri": "https://localhost:8080/"
        },
        "id": "8ji18BZEN-9z",
        "outputId": "48f4bedb-dc7e-4d70-9b2e-a55151fcb2f8"
      },
      "execution_count": 327,
      "outputs": [
        {
          "output_type": "stream",
          "name": "stdout",
          "text": [
            "Epoch 1/10\n",
            "45/45 [==============================] - 1s 11ms/step - loss: 1.2318 - accuracy: 0.3785 - val_loss: 1.0562 - val_accuracy: 0.4278\n",
            "Epoch 2/10\n",
            "45/45 [==============================] - 0s 8ms/step - loss: 1.1151 - accuracy: 0.4306 - val_loss: 1.1304 - val_accuracy: 0.3583\n",
            "Epoch 3/10\n",
            "45/45 [==============================] - 0s 8ms/step - loss: 1.0837 - accuracy: 0.4264 - val_loss: 1.1940 - val_accuracy: 0.4417\n",
            "Epoch 4/10\n",
            "45/45 [==============================] - 0s 8ms/step - loss: 1.0665 - accuracy: 0.4743 - val_loss: 1.0458 - val_accuracy: 0.4750\n",
            "Epoch 5/10\n",
            "45/45 [==============================] - 0s 10ms/step - loss: 1.0866 - accuracy: 0.4694 - val_loss: 1.1126 - val_accuracy: 0.3639\n",
            "Epoch 6/10\n",
            "45/45 [==============================] - 0s 10ms/step - loss: 1.0519 - accuracy: 0.4771 - val_loss: 1.0585 - val_accuracy: 0.4778\n",
            "Epoch 7/10\n",
            "45/45 [==============================] - 0s 10ms/step - loss: 1.0379 - accuracy: 0.4688 - val_loss: 1.0521 - val_accuracy: 0.4389\n",
            "Epoch 8/10\n",
            "45/45 [==============================] - 0s 10ms/step - loss: 0.9983 - accuracy: 0.5097 - val_loss: 1.0793 - val_accuracy: 0.4417\n",
            "Epoch 9/10\n",
            "45/45 [==============================] - 0s 8ms/step - loss: 0.9889 - accuracy: 0.5014 - val_loss: 1.0654 - val_accuracy: 0.4778\n",
            "Epoch 10/10\n",
            "45/45 [==============================] - 0s 7ms/step - loss: 0.9680 - accuracy: 0.5292 - val_loss: 1.0810 - val_accuracy: 0.4333\n"
          ]
        },
        {
          "output_type": "execute_result",
          "data": {
            "text/plain": [
              "<keras.callbacks.History at 0x7fc27e3c15e0>"
            ]
          },
          "metadata": {},
          "execution_count": 327
        }
      ]
    },
    {
      "cell_type": "markdown",
      "source": [
        "## **Convnet model**"
      ],
      "metadata": {
        "id": "zosG40UiNmPu"
      }
    },
    {
      "cell_type": "markdown",
      "source": [
        "**Build model**\n"
      ],
      "metadata": {
        "id": "IPTPDsObPPel"
      }
    },
    {
      "cell_type": "code",
      "source": [
        "print(img_size)"
      ],
      "metadata": {
        "colab": {
          "base_uri": "https://localhost:8080/"
        },
        "id": "p4qT9b6WPxqW",
        "outputId": "d2c7ca50-d2e4-474e-c96c-a6606e0401d2"
      },
      "execution_count": 328,
      "outputs": [
        {
          "output_type": "stream",
          "name": "stdout",
          "text": [
            "100\n"
          ]
        }
      ]
    },
    {
      "cell_type": "code",
      "source": [
        "modelC = keras.Sequential(name =\"convModel\")\n",
        "\n",
        "modelC.add(layers.Conv2D(124, (3, 3), activation='relu', input_shape=(img_size,img_size,1), name=\"Conv1\")) \n",
        "modelC.add(layers.MaxPooling2D((2, 2), name='maxpool1'))\n",
        "modelC.add(layers.Dropout(0.2, name='dropout1'),)\n",
        "\n",
        "modelC.add(layers.Conv2D(64, (3, 3), activation='relu', name=\"Conv2\"))\n",
        "# modelC.add(layers.Dropout(0.2, name='dropout2'),)\n",
        "modelC.add(layers.MaxPooling2D((2, 2), name='maxpool2'))\n",
        "\n",
        "modelC.add(layers.Conv2D(32, (3, 3), activation='relu', name=\"Conv3\"))\n",
        "modelC.add(layers.MaxPooling2D((2, 2), name='maxpool3'))\n",
        "modelC.add(layers.Dropout(0.2, name='dropout3'),)\n",
        "\n",
        "modelC.add(layers.Flatten(name=\"Flatten\"))\n",
        "\n",
        "modelC.add(layers.Dense(64, activation='relu', name='Dense1'))\n",
        "# modelC.add(layers.Dropout(0.1, name='dropout4'),)\n",
        "model.add(layers.Dense(32, activation='relu', name='Dense2'))\n",
        "\n",
        "modelC.add(layers.Dense(3,activation='softmax', name='outputDense'))"
      ],
      "metadata": {
        "id": "wvjyDBWgrgtF"
      },
      "execution_count": 329,
      "outputs": []
    },
    {
      "cell_type": "code",
      "source": [
        "modelC.summary()"
      ],
      "metadata": {
        "colab": {
          "base_uri": "https://localhost:8080/"
        },
        "id": "E7bIA0Q4tM5n",
        "outputId": "c7474ac1-c1de-402e-f631-a30736c3ddcf"
      },
      "execution_count": 330,
      "outputs": [
        {
          "output_type": "stream",
          "name": "stdout",
          "text": [
            "Model: \"convModel\"\n",
            "_________________________________________________________________\n",
            " Layer (type)                Output Shape              Param #   \n",
            "=================================================================\n",
            " Conv1 (Conv2D)              (None, 98, 98, 124)       1240      \n",
            "                                                                 \n",
            " maxpool1 (MaxPooling2D)     (None, 49, 49, 124)       0         \n",
            "                                                                 \n",
            " dropout1 (Dropout)          (None, 49, 49, 124)       0         \n",
            "                                                                 \n",
            " Conv2 (Conv2D)              (None, 47, 47, 64)        71488     \n",
            "                                                                 \n",
            " maxpool2 (MaxPooling2D)     (None, 23, 23, 64)        0         \n",
            "                                                                 \n",
            " Conv3 (Conv2D)              (None, 21, 21, 32)        18464     \n",
            "                                                                 \n",
            " maxpool3 (MaxPooling2D)     (None, 10, 10, 32)        0         \n",
            "                                                                 \n",
            " dropout3 (Dropout)          (None, 10, 10, 32)        0         \n",
            "                                                                 \n",
            " Flatten (Flatten)           (None, 3200)              0         \n",
            "                                                                 \n",
            " Dense1 (Dense)              (None, 64)                204864    \n",
            "                                                                 \n",
            " outputDense (Dense)         (None, 3)                 195       \n",
            "                                                                 \n",
            "=================================================================\n",
            "Total params: 296,251\n",
            "Trainable params: 296,251\n",
            "Non-trainable params: 0\n",
            "_________________________________________________________________\n"
          ]
        }
      ]
    },
    {
      "cell_type": "markdown",
      "source": [
        "**Model compilation**"
      ],
      "metadata": {
        "id": "SCpxkfklQK1s"
      }
    },
    {
      "cell_type": "code",
      "source": [
        "modelC.compile(optimizer='adam',\n",
        "              loss=tf.keras.losses.SparseCategoricalCrossentropy(from_logits=True),\n",
        "              metrics=['accuracy'])"
      ],
      "metadata": {
        "id": "Q0jPg1vX0YF4"
      },
      "execution_count": 331,
      "outputs": []
    },
    {
      "cell_type": "markdown",
      "source": [
        "**Train model ( model fitting )**"
      ],
      "metadata": {
        "id": "cSgKU4p7DU6n"
      }
    },
    {
      "cell_type": "code",
      "source": [
        "history=modelC.fit(X, y, epochs=20,validation_split=0.2,)"
      ],
      "metadata": {
        "colab": {
          "base_uri": "https://localhost:8080/"
        },
        "id": "ImplKNq0S-EP",
        "outputId": "4f89cf13-1722-435b-ba8a-53c30ea3e33a"
      },
      "execution_count": 332,
      "outputs": [
        {
          "output_type": "stream",
          "name": "stdout",
          "text": [
            "Epoch 1/20\n",
            "45/45 [==============================] - 53s 1s/step - loss: 1.1020 - accuracy: 0.3438 - val_loss: 1.0979 - val_accuracy: 0.3556\n",
            "Epoch 2/20\n",
            "45/45 [==============================] - 51s 1s/step - loss: 1.0775 - accuracy: 0.4083 - val_loss: 0.9921 - val_accuracy: 0.5083\n",
            "Epoch 3/20\n",
            "45/45 [==============================] - 49s 1s/step - loss: 0.9931 - accuracy: 0.5028 - val_loss: 0.9472 - val_accuracy: 0.5444\n",
            "Epoch 4/20\n",
            "45/45 [==============================] - 51s 1s/step - loss: 0.9399 - accuracy: 0.5562 - val_loss: 0.9186 - val_accuracy: 0.5500\n",
            "Epoch 5/20\n",
            "45/45 [==============================] - 49s 1s/step - loss: 0.8731 - accuracy: 0.5833 - val_loss: 0.8959 - val_accuracy: 0.5500\n",
            "Epoch 6/20\n",
            "45/45 [==============================] - 51s 1s/step - loss: 0.8129 - accuracy: 0.6278 - val_loss: 0.8986 - val_accuracy: 0.5361\n",
            "Epoch 7/20\n",
            "45/45 [==============================] - 51s 1s/step - loss: 0.7542 - accuracy: 0.6444 - val_loss: 0.8641 - val_accuracy: 0.6028\n",
            "Epoch 8/20\n",
            "45/45 [==============================] - 48s 1s/step - loss: 0.7167 - accuracy: 0.6694 - val_loss: 0.8984 - val_accuracy: 0.5306\n",
            "Epoch 9/20\n",
            "45/45 [==============================] - 48s 1s/step - loss: 0.6763 - accuracy: 0.7042 - val_loss: 0.9032 - val_accuracy: 0.5833\n",
            "Epoch 10/20\n",
            "45/45 [==============================] - 51s 1s/step - loss: 0.6559 - accuracy: 0.7125 - val_loss: 0.8352 - val_accuracy: 0.6194\n",
            "Epoch 11/20\n",
            "45/45 [==============================] - 50s 1s/step - loss: 0.5756 - accuracy: 0.7632 - val_loss: 0.8035 - val_accuracy: 0.6500\n",
            "Epoch 12/20\n",
            "45/45 [==============================] - 53s 1s/step - loss: 0.4988 - accuracy: 0.7833 - val_loss: 0.7776 - val_accuracy: 0.6444\n",
            "Epoch 13/20\n",
            "45/45 [==============================] - 52s 1s/step - loss: 0.4431 - accuracy: 0.8208 - val_loss: 0.8527 - val_accuracy: 0.6250\n",
            "Epoch 14/20\n",
            "45/45 [==============================] - 51s 1s/step - loss: 0.3864 - accuracy: 0.8451 - val_loss: 0.8639 - val_accuracy: 0.6639\n",
            "Epoch 15/20\n",
            "45/45 [==============================] - 52s 1s/step - loss: 0.3740 - accuracy: 0.8451 - val_loss: 0.9349 - val_accuracy: 0.6500\n",
            "Epoch 16/20\n",
            "45/45 [==============================] - 49s 1s/step - loss: 0.3472 - accuracy: 0.8479 - val_loss: 0.8577 - val_accuracy: 0.6722\n",
            "Epoch 17/20\n",
            "45/45 [==============================] - 49s 1s/step - loss: 0.2645 - accuracy: 0.8951 - val_loss: 0.8743 - val_accuracy: 0.6889\n",
            "Epoch 18/20\n",
            "45/45 [==============================] - 51s 1s/step - loss: 0.2361 - accuracy: 0.9069 - val_loss: 1.1301 - val_accuracy: 0.6167\n",
            "Epoch 19/20\n",
            "45/45 [==============================] - 49s 1s/step - loss: 0.2267 - accuracy: 0.9069 - val_loss: 0.9119 - val_accuracy: 0.6667\n",
            "Epoch 20/20\n",
            "45/45 [==============================] - 51s 1s/step - loss: 0.1869 - accuracy: 0.9299 - val_loss: 0.9628 - val_accuracy: 0.6833\n"
          ]
        }
      ]
    },
    {
      "cell_type": "markdown",
      "source": [
        "**Plot of model performance**"
      ],
      "metadata": {
        "id": "WZEiKRPvRCCQ"
      }
    },
    {
      "cell_type": "code",
      "source": [
        "plt.plot(history.history['accuracy'], label='accuracy')\n",
        "plt.plot(history.history['val_accuracy'], label = 'val_accuracy')\n",
        "plt.xlabel('Epoch')\n",
        "plt.ylabel('Accuracy')\n",
        "plt.ylim([0.5, 1])\n",
        "plt.legend(loc='lower right')\n",
        "\n",
        "#test_loss, test_acc = model.evaluate(test_images,  test_labels, verbose=2)"
      ],
      "metadata": {
        "colab": {
          "base_uri": "https://localhost:8080/",
          "height": 300
        },
        "id": "a9SWzteW_PpG",
        "outputId": "de9ba915-2dca-4006-db1a-f0d640d0f69c"
      },
      "execution_count": 333,
      "outputs": [
        {
          "output_type": "execute_result",
          "data": {
            "text/plain": [
              "<matplotlib.legend.Legend at 0x7fc27e33f100>"
            ]
          },
          "metadata": {},
          "execution_count": 333
        },
        {
          "output_type": "display_data",
          "data": {
            "text/plain": [
              "<Figure size 432x288 with 1 Axes>"
            ],
            "image/png": "[encoded data removed]"
          },
          "metadata": {
            "needs_background": "light"
          }
        }
      ]
    },
    {
      "cell_type": "code",
      "source": [
        "model.save('model.h5')"
      ],
      "metadata": {
        "id": "1hRkPjKdESIe"
      },
      "execution_count": 334,
      "outputs": []
    }
  ]
}