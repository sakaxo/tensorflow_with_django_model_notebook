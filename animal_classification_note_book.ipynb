{
  "nbformat": 4,
  "nbformat_minor": 0,
  "metadata": {
    "colab": {
      "provenance": [],
      "authorship_tag": "ABX9TyNkvUG4RPGbdlrKM6+Hl6iR",
      "include_colab_link": true
    },
    "kernelspec": {
      "name": "python3",
      "display_name": "Python 3"
    },
    "language_info": {
      "name": "python"
    }
  },
  "cells": [
    {
      "cell_type": "markdown",
      "metadata": {
        "id": "view-in-github",
        "colab_type": "text"
      },
      "source": [
        "<a href=\"https://colab.research.google.com/github/sakaxo/tensorflow_with_django_model_notebook/blob/master/animal_classification_note_book.ipynb\" target=\"_parent\"><img src=\"https://colab.research.google.com/assets/colab-badge.svg\" alt=\"Open In Colab\"/></a>"
      ]
    },
    {
      "cell_type": "markdown",
      "source": [
        "# ***Import Project Dependancies***"
      ],
      "metadata": {
        "id": "7JnXuK4CCwLg"
      }
    },
    {
      "cell_type": "code",
      "execution_count": 32,
      "metadata": {
        "id": "CkHIfxv8HJbP"
      },
      "outputs": [],
      "source": [
        "import numpy as np\n",
        "import random\n",
        "import pickle\n",
        "import cv2\n",
        "import os\n",
        "\n",
        "import tensorflow as tf\n",
        "from tensorflow import keras\n",
        "from tensorflow.keras import layers"
      ]
    },
    {
      "cell_type": "code",
      "source": [
        "data_dir = \"/content/dataset\""
      ],
      "metadata": {
        "id": "1J9w-0yOIjCI"
      },
      "execution_count": 33,
      "outputs": []
    },
    {
      "cell_type": "code",
      "source": [
        "class_names = ['cat','dog','parrot']\n",
        "img_size = 100"
      ],
      "metadata": {
        "id": "Y-Ptguq2I0o0"
      },
      "execution_count": 34,
      "outputs": []
    },
    {
      "cell_type": "code",
      "source": [
        "data = []"
      ],
      "metadata": {
        "id": "5Zm37jHQLHTx"
      },
      "execution_count": 35,
      "outputs": []
    },
    {
      "cell_type": "markdown",
      "source": [
        "# **Prepare Data set**"
      ],
      "metadata": {
        "id": "d8swVJgoC9WR"
      }
    },
    {
      "cell_type": "markdown",
      "source": [],
      "metadata": {
        "id": "_JvKGT-yDruk"
      }
    },
    {
      "cell_type": "code",
      "source": [
        "for animal in class_names:\n",
        "  class_path = os.path.join(data_dir,animal)\n",
        "  label = class_names.index(animal)\n",
        "  for img in os.listdir(class_path):\n",
        "    img_path = os.path.join(class_path,img)\n",
        "\n",
        "    img_arr = cv2.imread(img_path,0) #load image and convert to gray scale (0)\n",
        "    img_arr = cv2.resize(img_arr,(img_size,img_size)) # resize every image to size (img_size,img_size)\n",
        "\n",
        "    # data\n",
        "    data.append([img_arr,label])\n",
        "  \n"
      ],
      "metadata": {
        "id": "QQrH5lngJDZE"
      },
      "execution_count": 36,
      "outputs": []
    },
    {
      "cell_type": "code",
      "source": [
        "random.shuffle(data)\n",
        "X = []\n",
        "y = []"
      ],
      "metadata": {
        "id": "fpw5_q10LZ1f"
      },
      "execution_count": 37,
      "outputs": []
    },
    {
      "cell_type": "code",
      "source": [
        "for feature,label in data:\n",
        "  X.append(feature)\n",
        "  y.append(label)"
      ],
      "metadata": {
        "id": "FUA6Wh1gJX70"
      },
      "execution_count": 38,
      "outputs": []
    },
    {
      "cell_type": "markdown",
      "source": [
        "**Save Prepared data to memory**"
      ],
      "metadata": {
        "id": "r1F_bJunCXLV"
      }
    },
    {
      "cell_type": "code",
      "source": [
        "pickle.dump(X,open('train_X.pkl','wb'))\n",
        "pickle.dump(y,open('train_y.pkl','wb'))"
      ],
      "metadata": {
        "id": "3wvx_R-cNeVC"
      },
      "execution_count": 39,
      "outputs": []
    },
    {
      "cell_type": "code",
      "source": [
        "X_train = pickle.load(open('train_X.pkl','rb'))\n",
        "y_train = pickle.load(open('train_y.pkl','rb'))\n"
      ],
      "metadata": {
        "id": "-a43j4ZCNfrv"
      },
      "execution_count": 40,
      "outputs": []
    },
    {
      "cell_type": "markdown",
      "source": [
        "# **Data list to numpy array**"
      ],
      "metadata": {
        "id": "53hTI5X3CGKs"
      }
    },
    {
      "cell_type": "code",
      "source": [
        "X = np.array(X_train)\n",
        "y = np.array(y_train)"
      ],
      "metadata": {
        "id": "1BB3Jod-N9Gi"
      },
      "execution_count": 41,
      "outputs": []
    },
    {
      "cell_type": "code",
      "source": [
        "# scale features\n",
        "X = X/255.0\n"
      ],
      "metadata": {
        "id": "L5EgFWQlPQ1Y"
      },
      "execution_count": 42,
      "outputs": []
    },
    {
      "cell_type": "markdown",
      "source": [
        "# **Build and Train Model**"
      ],
      "metadata": {
        "id": "t4hnJtKEDG0_"
      }
    },
    {
      "cell_type": "markdown",
      "source": [
        "**Build model**"
      ],
      "metadata": {
        "id": "Cl3LW1cmDPF3"
      }
    },
    {
      "cell_type": "code",
      "source": [
        "model_f = keras.Sequential(name=\"Sequential_1\")\n",
        "model_f.add(layers.Flatten(input_shape=(100,100), name=\"Flatten_layer\"))\n",
        "model_f.add(layers.Dense(32, activation=\"relu\", name=\"layer_1\"))\n",
        "model_f.add(layers.Dense(32, activation=\"relu\", name=\"layer_2\"))\n",
        "model_f.add(layers.Dense(3, activation=\"softmax\", name=\"layer_3\"))\n",
        "\n",
        "model_f.compile(optimizer='adam',\n",
        "              loss=tf.keras.losses.SparseCategoricalCrossentropy(from_logits=True),\n",
        "              metrics=['accuracy'])"
      ],
      "metadata": {
        "id": "13cpaHXLSaRV"
      },
      "execution_count": 43,
      "outputs": []
    },
    {
      "cell_type": "markdown",
      "source": [
        "**Train model**"
      ],
      "metadata": {
        "id": "cSgKU4p7DU6n"
      }
    },
    {
      "cell_type": "code",
      "source": [
        "model_f.fit(X, y, epochs=10,validation_split=0.3,)"
      ],
      "metadata": {
        "colab": {
          "base_uri": "https://localhost:8080/"
        },
        "id": "ImplKNq0S-EP",
        "outputId": "b6f96ae2-92ca-4a2c-c38b-957ee832fc42"
      },
      "execution_count": 44,
      "outputs": [
        {
          "output_type": "stream",
          "name": "stdout",
          "text": [
            "Epoch 1/10\n",
            "40/40 [==============================] - 1s 15ms/step - loss: 1.2109 - accuracy: 0.3738 - val_loss: 1.0848 - val_accuracy: 0.4074\n",
            "Epoch 2/10\n",
            "40/40 [==============================] - 0s 10ms/step - loss: 1.1090 - accuracy: 0.3952 - val_loss: 1.1041 - val_accuracy: 0.4241\n",
            "Epoch 3/10\n",
            "40/40 [==============================] - 0s 10ms/step - loss: 1.0778 - accuracy: 0.4302 - val_loss: 1.0878 - val_accuracy: 0.4148\n",
            "Epoch 4/10\n",
            "40/40 [==============================] - 0s 10ms/step - loss: 1.0401 - accuracy: 0.4730 - val_loss: 1.0491 - val_accuracy: 0.4333\n",
            "Epoch 5/10\n",
            "40/40 [==============================] - 0s 9ms/step - loss: 1.0249 - accuracy: 0.4897 - val_loss: 1.0921 - val_accuracy: 0.4315\n",
            "Epoch 6/10\n",
            "40/40 [==============================] - 0s 10ms/step - loss: 1.1014 - accuracy: 0.4468 - val_loss: 1.4286 - val_accuracy: 0.3481\n",
            "Epoch 7/10\n",
            "40/40 [==============================] - 0s 10ms/step - loss: 1.0463 - accuracy: 0.4619 - val_loss: 1.0942 - val_accuracy: 0.4130\n",
            "Epoch 8/10\n",
            "40/40 [==============================] - 0s 10ms/step - loss: 1.0238 - accuracy: 0.4960 - val_loss: 1.1789 - val_accuracy: 0.4037\n",
            "Epoch 9/10\n",
            "40/40 [==============================] - 0s 9ms/step - loss: 0.9990 - accuracy: 0.5063 - val_loss: 1.1024 - val_accuracy: 0.4481\n",
            "Epoch 10/10\n",
            "40/40 [==============================] - 0s 10ms/step - loss: 0.9725 - accuracy: 0.5159 - val_loss: 1.2459 - val_accuracy: 0.4130\n"
          ]
        },
        {
          "output_type": "execute_result",
          "data": {
            "text/plain": [
              "<keras.callbacks.History at 0x7f1fdffce250>"
            ]
          },
          "metadata": {},
          "execution_count": 44
        }
      ]
    },
    {
      "cell_type": "markdown",
      "source": [
        "**save built model**"
      ],
      "metadata": {
        "id": "GW0jDqTmDcnd"
      }
    },
    {
      "cell_type": "code",
      "source": [
        "model_f.save('animal_model.h5')"
      ],
      "metadata": {
        "id": "ZAdGMFpOXl2F"
      },
      "execution_count": 45,
      "outputs": []
    }
  ]
}